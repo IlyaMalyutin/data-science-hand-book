{
 "cells": [
  {
   "cell_type": "code",
   "execution_count": 1,
   "metadata": {},
   "outputs": [],
   "source": []
  },
  {
   "cell_type": "code",
   "execution_count": 38,
   "metadata": {},
   "outputs": [],
   "source": [
    "req = requests.get(\"\"\"https://yandex.ru/geohelper/api/v3/likes/like?sk=860d3f6c7b511bd7a8ac040fc072ad5da6b6f10a%3A1550130487597\"\"\", headers=header)"
   ]
  },
  {
   "cell_type": "code",
   "execution_count": 39,
   "metadata": {},
   "outputs": [
    {
     "data": {
      "text/plain": [
       "'{\\n  \"ok\": 1,\\n  \"counter\": 6608453\\n}'"
      ]
     },
     "execution_count": 39,
     "metadata": {},
     "output_type": "execute_result"
    }
   ],
   "source": [
    "req.text"
   ]
  },
  {
   "cell_type": "code",
   "execution_count": 2,
   "metadata": {},
   "outputs": [
    {
     "data": {
      "text/plain": [
       "{'Accept': 'application/json, text/javascript, */*; q=0.01',\n",
       " 'Accept-Encoding': 'gzip, deflate, br',\n",
       " 'Accept-Language': 'ru,en-US;q=0.9,en;q=0.8,fr;q=0.7',\n",
       " 'Cache-Control': 'no-cache',\n",
       " 'Connection': 'keep-alive',\n",
       " 'Cookie': 'mda=0; my=YwA=; _ym_uid=1537369703353014900; yandexuid=1504023321503318892; L=Q2wDel1/dlkMeFNvRGBYcFgBAQZvQEdGQzcKJ14ffkhTYA==.1537530470.13630.354466.f235e043fb27e36b3e9ca73737ae16ae; yandex_login=solino2106; fuid01=5bade53574f264d9.J82iGUVwS1rboG_1KYshvR9NJk8IdcEAkwDkk9a9-Ikywm-3tEdx4-c_X9i8naPMVIGzbayE9nGMWL59sCxo18rY6FvsQE2P5liO1oj65RQkXSzA6_wVNnDRPPGnvtG5; yandex_gid=213; bltsr=1; ys_fp=form-requestid%3D1545847979796501-486041760770930648581180-man1-8205; bltsr=1; i=moCBcGWZ/0JjNeG+dKzpKhLQrkF/Mi8e9py+vm+/pJoxl5RI51CRefpwEF/JmjV4AWVZzTlP7P0nxrGtOyaVbJ2ZuO4=; ys=udn.cDpzb2xpbm8yMTA2#ymrefl.617A6A36366E1322#wprid.1550081977782184-729137699010840372458166-vla1-3132; _ym_isad=2; zm=m-white_bender.gen.webp.css-https%3Awww_4W9zgDMhcVRfCx1VB_pAsTXKPIU%3Al; Session_id=3:1550124664.5.0.1537530470430:lhW-wg:53.1|384189297.0.2|194896.861017.SHVGVGnP0pWzmkYp-TQSMsYbubY; sessionid2=3:1550124664.5.0.1537530470430:lhW-wg:53.1|384189297.0.2|194896.742658.GuaZR-8VFfEOY4HUpGZ6LDzXN_g; _ym_d=1550130489; yabs-frequency=/4/002700000039Ws5S/brcmS0mq8IEBSd0CD27RIx1m33GW/; yc=1550389690.zen.cach%3A1550134088; yp=1571082384.ygu.1#1852727584.yrts.1537367584#1852729703.yrtsi.1537369703#1551038815.ysl.1#1565037446.szm.2:1440x900:1440x767#1552673924.shlos.1#1550590803.ww.1#1552808899.csc.2#1852890470.udn.cDpzb2xpbm8yMTA2#1569068056.nt.computers#1858323557.ygp.-1#1550303298.gpauto.55_796892:37_598537:53:0:1550130488#1552673924.los.1#1552673924.losc.0',\n",
       " 'Host': 'yandex.ru',\n",
       " 'Pragma': 'no-cache',\n",
       " 'Referer': 'https://yandex.ru/',\n",
       " 'User-Agent': 'Mozilla/5.0 (Macintosh; Intel Mac OS X 10_14_2) AppleWebKit/537.36 (KHTML, like Gecko) Chrome/71.0.3578.98 Safari/537.36',\n",
       " 'X-Requested-With': 'XMLHttpRequest'}"
      ]
     },
     "execution_count": 2,
     "metadata": {},
     "output_type": "execute_result"
    }
   ],
   "source": [
    "header = \"\"\"Host: yandex.ru\n",
    "Connection: keep-alive\n",
    "Pragma: no-cache\n",
    "Cache-Control: no-cache\n",
    "Accept: application/json, text/javascript, */*; q=0.01\n",
    "X-Requested-With: XMLHttpRequest\n",
    "User-Agent: Mozilla/5.0 (Macintosh; Intel Mac OS X 10_14_2) AppleWebKit/537.36 (KHTML, like Gecko) Chrome/71.0.3578.98 Safari/537.36\n",
    "Referer: https://yandex.ru/\n",
    "Accept-Encoding: gzip, deflate, br\n",
    "Accept-Language: ru,en-US;q=0.9,en;q=0.8,fr;q=0.7\n",
    "Cookie: mda=0; my=YwA=; _ym_uid=1537369703353014900; yandexuid=1504023321503318892; L=Q2wDel1/dlkMeFNvRGBYcFgBAQZvQEdGQzcKJ14ffkhTYA==.1537530470.13630.354466.f235e043fb27e36b3e9ca73737ae16ae; yandex_login=solino2106; fuid01=5bade53574f264d9.J82iGUVwS1rboG_1KYshvR9NJk8IdcEAkwDkk9a9-Ikywm-3tEdx4-c_X9i8naPMVIGzbayE9nGMWL59sCxo18rY6FvsQE2P5liO1oj65RQkXSzA6_wVNnDRPPGnvtG5; yandex_gid=213; bltsr=1; ys_fp=form-requestid%3D1545847979796501-486041760770930648581180-man1-8205; bltsr=1; i=moCBcGWZ/0JjNeG+dKzpKhLQrkF/Mi8e9py+vm+/pJoxl5RI51CRefpwEF/JmjV4AWVZzTlP7P0nxrGtOyaVbJ2ZuO4=; ys=udn.cDpzb2xpbm8yMTA2#ymrefl.617A6A36366E1322#wprid.1550081977782184-729137699010840372458166-vla1-3132; _ym_isad=2; zm=m-white_bender.gen.webp.css-https%3Awww_4W9zgDMhcVRfCx1VB_pAsTXKPIU%3Al; Session_id=3:1550124664.5.0.1537530470430:lhW-wg:53.1|384189297.0.2|194896.861017.SHVGVGnP0pWzmkYp-TQSMsYbubY; sessionid2=3:1550124664.5.0.1537530470430:lhW-wg:53.1|384189297.0.2|194896.742658.GuaZR-8VFfEOY4HUpGZ6LDzXN_g; _ym_d=1550130489; yabs-frequency=/4/002700000039Ws5S/brcmS0mq8IEBSd0CD27RIx1m33GW/; yc=1550389690.zen.cach%3A1550134088; yp=1571082384.ygu.1#1852727584.yrts.1537367584#1852729703.yrtsi.1537369703#1551038815.ysl.1#1565037446.szm.2:1440x900:1440x767#1552673924.shlos.1#1550590803.ww.1#1552808899.csc.2#1852890470.udn.cDpzb2xpbm8yMTA2#1569068056.nt.computers#1858323557.ygp.-1#1550303298.gpauto.55_796892:37_598537:53:0:1550130488#1552673924.los.1#1552673924.losc.0\"\"\".split('\\n')\n",
    "header = [h.split(': ') for h in header]\n",
    "header = {h[0]: ': '.join(h[1:]) for h in header}\n",
    "header"
   ]
  },
  {
   "cell_type": "code",
   "execution_count": null,
   "metadata": {},
   "outputs": [],
   "source": [
    "import pandas as pd\n",
    "   ...: import requests\n",
    "   ...: import tqdm\n",
    "   ...: import multiprocessing\n",
    "   ...: import sys\n",
    "   ...: \n",
    "   ...: header = \"\"\"Host: yandex.ru\n",
    "   ...: Connection: keep-alive\n",
    "   ...: Pragma: no-cache\n",
    "   ...: Cache-Control: no-cache\n",
    "   ...: Accept: application/json, text/javascript, */*; q=0.01\n",
    "   ...: X-Requested-With: XMLHttpRequest\n",
    "   ...: User-Agent: Mozilla/5.0 (Macintosh; Intel Mac OS X 10_14_2) AppleWebKit/537.36 (KHTML, like Gecko) Chrome/71.0.3578.98 Safari/537.36\n",
    "   ...: Referer: https://yandex.ru/\n",
    "   ...: Accept-Encoding: gzip, deflate, br\n",
    "   ...: Accept-Language: ru,en-US;q=0.9,en;q=0.8,fr;q=0.7\n",
    "   ...: Cookie: mda=0; my=YwA=; _ym_uid=1537369703353014900; yandexuid=1504023321503318892; L=Q2wDel1/dlkMeFNvRGBYcFgBAQZvQEdGQzcKJ14ffkhTYA==.1537530470.13630.354466.f235e043fb27e36b3e9ca73737ae16ae; yandex_login=solino2106; fuid01=5bade\n",
    "   ...: 53574f264d9.J82iGUVwS1rboG_1KYshvR9NJk8IdcEAkwDkk9a9-Ikywm-3tEdx4-c_X9i8naPMVIGzbayE9nGMWL59sCxo18rY6FvsQE2P5liO1oj65RQkXSzA6_wVNnDRPPGnvtG5; yandex_gid=213; bltsr=1; ys_fp=form-requestid%3D1545847979796501-48604176077093064858118\n",
    "   ...: 0-man1-8205; bltsr=1; i=moCBcGWZ/0JjNeG+dKzpKhLQrkF/Mi8e9py+vm+/pJoxl5RI51CRefpwEF/JmjV4AWVZzTlP7P0nxrGtOyaVbJ2ZuO4=; ys=udn.cDpzb2xpbm8yMTA2#ymrefl.617A6A36366E1322#wprid.1550081977782184-729137699010840372458166-vla1-3132; _ym_i\n",
    "   ...: sad=2; zm=m-white_bender.gen.webp.css-https%3Awww_4W9zgDMhcVRfCx1VB_pAsTXKPIU%3Al; Session_id=3:1550124664.5.0.1537530470430:lhW-wg:53.1|384189297.0.2|194896.861017.SHVGVGnP0pWzmkYp-TQSMsYbubY; sessionid2=3:1550124664.5.0.15375304\n",
    "   ...: 70430:lhW-wg:53.1|384189297.0.2|194896.742658.GuaZR-8VFfEOY4HUpGZ6LDzXN_g; _ym_d=1550130489; yabs-frequency=/4/002700000039Ws5S/brcmS0mq8IEBSd0CD27RIx1m33GW/; yc=1550389690.zen.cach%3A1550134088; yp=1571082384.ygu.1#1852727584.yrt\n",
    "   ...: s.1537367584#1852729703.yrtsi.1537369703#1551038815.ysl.1#1565037446.szm.2:1440x900:1440x767#1552673924.shlos.1#1550590803.ww.1#1552808899.csc.2#1852890470.udn.cDpzb2xpbm8yMTA2#1569068056.nt.computers#1858323557.ygp.-1#1550303298.\n",
    "   ...: gpauto.55_796892:37_598537:53:0:1550130488#1552673924.los.1#1552673924.losc.0\"\"\".split('\\n')\n",
    "   ...: header = [h.split(': ') for h in header]\n",
    "   ...: header = {h[0]: ': '.join(h[1:]) for h in header}\n",
    "   ...: header\n",
    "   ...: \n",
    "   ...: def worker(n):\n",
    "   ...: \n",
    "   ...:     print(n, 'start')\n",
    "   ...: \n",
    "   ...:     for i in range(10000):\n",
    "   ...:         if i % 100 == 0:\n",
    "   ...:             print('{} - {}'.format(n, i), end=' | ')\n",
    "   ...: \n",
    "   ...:         req = requests.get(\"\"\"https://yandex.ru/geohelper/api/v3/likes/like?sk=860d3f6c7b511bd7a8ac040fc072ad5da6b6f10a%3A1550130487597\"\"\", headers=header)\n",
    "   ...:         if 'counter' not in req.text:\n",
    "   ...:             raise Exception(req.text)\n",
    "   ...:     print(n, 'done')\n",
    "   ...: \n",
    "   ...: ps = []\n",
    "   ...: for i in range(24):\n",
    "   ...:     p = multiprocessing.Process(target=worker, args=(i,))\n",
    "   ...:     p.start()\n",
    "   ...:     ps.append(p)\n",
    "   ...: \n",
    "   ...: for p in ps:\n",
    "   ...:     p.join()\n"
   ]
  }
 ],
 "metadata": {
  "kernelspec": {
   "display_name": "Python 3",
   "language": "python",
   "name": "python3"
  },
  "language_info": {
   "codemirror_mode": {
    "name": "ipython",
    "version": 3
   },
   "file_extension": ".py",
   "mimetype": "text/x-python",
   "name": "python",
   "nbconvert_exporter": "python",
   "pygments_lexer": "ipython3",
   "version": "3.5.2"
  }
 },
 "nbformat": 4,
 "nbformat_minor": 2
}
