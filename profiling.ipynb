{
 "cells": [
  {
   "cell_type": "code",
   "execution_count": 5,
   "metadata": {},
   "outputs": [],
   "source": [
    "import tracemalloc"
   ]
  },
  {
   "cell_type": "code",
   "execution_count": 6,
   "metadata": {},
   "outputs": [],
   "source": [
    "tracemalloc.start()"
   ]
  },
  {
   "cell_type": "code",
   "execution_count": 9,
   "metadata": {},
   "outputs": [],
   "source": [
    "# int('99999'*99999)"
   ]
  },
  {
   "cell_type": "code",
   "execution_count": 10,
   "metadata": {},
   "outputs": [],
   "source": [
    "snapshot = tracemalloc.take_snapshot()"
   ]
  },
  {
   "cell_type": "code",
   "execution_count": 11,
   "metadata": {},
   "outputs": [],
   "source": [
    "top_stats = snapshot.statistics('lineno')"
   ]
  },
  {
   "cell_type": "code",
   "execution_count": 13,
   "metadata": {},
   "outputs": [
    {
     "name": "stdout",
     "output_type": "stream",
     "text": [
      "[ Top 10 ]\n",
      "<ipython-input-3-1bf0d381061e>:1: size=2163 KiB, count=2, average=1081 KiB\n",
      "/Users/ilya/anaconda/envs/conda/lib/python3.5/site-packages/IPython/lib/pretty.py:693: size=493 KiB, count=4, average=123 KiB\n",
      "/Users/ilya/anaconda/envs/conda/lib/python3.5/linecache.py:137: size=468 KiB, count=4635, average=103 B\n",
      "<ipython-input-8-b262cf37807b>:1: size=216 KiB, count=1, average=216 KiB\n",
      "/Users/ilya/anaconda/envs/conda/lib/python3.5/posixpath.py:351: size=74.6 KiB, count=597, average=128 B\n",
      "/Users/ilya/anaconda/envs/conda/lib/python3.5/inspect.py:718: size=24.0 KiB, count=1, average=24.0 KiB\n",
      "/Users/ilya/anaconda/envs/conda/lib/python3.5/inspect.py:714: size=24.0 KiB, count=1, average=24.0 KiB\n",
      "/Users/ilya/anaconda/envs/conda/lib/python3.5/inspect.py:708: size=21.6 KiB, count=346, average=64 B\n",
      "/Users/ilya/anaconda/envs/conda/lib/python3.5/site-packages/traitlets/traitlets.py:1702: size=9792 B, count=68, average=144 B\n",
      "<frozen importlib._bootstrap_external>:476: size=7710 B, count=75, average=103 B\n"
     ]
    }
   ],
   "source": [
    "print(\"[ Top 10 ]\")\n",
    "for stat in top_stats[:10]:\n",
    "    print(stat)"
   ]
  },
  {
   "cell_type": "code",
   "execution_count": 15,
   "metadata": {},
   "outputs": [],
   "source": [
    "from memory_profiler import profile"
   ]
  },
  {
   "cell_type": "code",
   "execution_count": 17,
   "metadata": {},
   "outputs": [
    {
     "name": "stdout",
     "output_type": "stream",
     "text": [
      "Writing my_func.py\n"
     ]
    }
   ],
   "source": [
    "%%file my_func.py\n",
    "@profile\n",
    "def my_func():\n",
    "    a = [1] * (10 ** 6)\n",
    "    b = [2] * (2 * 10 ** 7)\n",
    "    del b\n",
    "    return a\n",
    "\n",
    "if __name__ == '__main__':\n",
    "    my_func()"
   ]
  }
 ],
 "metadata": {
  "kernelspec": {
   "display_name": "Python 3",
   "language": "python",
   "name": "python3"
  },
  "language_info": {
   "codemirror_mode": {
    "name": "ipython",
    "version": 3
   },
   "file_extension": ".py",
   "mimetype": "text/x-python",
   "name": "python",
   "nbconvert_exporter": "python",
   "pygments_lexer": "ipython3",
   "version": "3.5.2"
  }
 },
 "nbformat": 4,
 "nbformat_minor": 2
}
